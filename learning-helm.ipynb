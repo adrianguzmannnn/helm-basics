{
 "cells": [
  {
   "cell_type": "markdown",
   "metadata": {},
   "source": [
    "`helm` is equivalent to Kubernetes as `pip` is to Python. Helm is the package management system for Kubernetes; without Helm, deploying a Kubernetes cluster means copying and pasting lots of files, and running `kubectl apply -f` over and over for the right Kubernetes deployment, services, and pods. Helm does all of this with one command.\n",
    "\n",
    "You can also:\n",
    "1. Create chart versions\n",
    "2. Upgrade versions\n",
    "3. Debug deployments \n",
    "4. Roll back as needed \n",
    "\n",
    "Helm's templating engine allows one to dynamically pass in values/data to an application, meaning you can deploy the same application in many environments using different sets of values."
   ]
  },
  {
   "cell_type": "markdown",
   "metadata": {},
   "source": [
    "### install a Helm chart in your Kubernetes cluster"
   ]
  },
  {
   "cell_type": "markdown",
   "metadata": {},
   "source": [
    "`helm repo add <package> <url>` # Add a repo from the Helm Hub."
   ]
  },
  {
   "cell_type": "markdown",
   "metadata": {},
   "source": [
    "`helm repo update`"
   ]
  },
  {
   "cell_type": "markdown",
   "metadata": {},
   "source": [
    "`helm repo list`"
   ]
  },
  {
   "cell_type": "markdown",
   "metadata": {},
   "source": [
    "#### install the chart in the cluster "
   ]
  },
  {
   "cell_type": "markdown",
   "metadata": {},
   "source": [
    "`kubectl create ns <namespace>` # Create Kubernetes namespace."
   ]
  },
  {
   "cell_type": "markdown",
   "metadata": {},
   "source": [
    "`kubectl get ns` # Ensure it was created."
   ]
  },
  {
   "cell_type": "markdown",
   "metadata": {},
   "source": [
    "`helm install <new-user-defined-name> <repository/helm-chart-name (i.e. package from above)> -n <namespace>` # Install the chart in the cluster."
   ]
  },
  {
   "cell_type": "markdown",
   "metadata": {},
   "source": [
    "`helm ls -n <namespace>` # See all installed charts in the namespace."
   ]
  },
  {
   "cell_type": "markdown",
   "metadata": {},
   "source": [
    "### inspect charts in the Kubernetes cluster"
   ]
  },
  {
   "cell_type": "markdown",
   "metadata": {},
   "source": [
    "`kubectl get all -n <namespace>` # It shows a pod, service, deployment, and replicaset that determines the number of pods we're running."
   ]
  },
  {
   "cell_type": "markdown",
   "metadata": {},
   "source": [
    "`kubectl logs <pod-name> -n <namespace>`"
   ]
  },
  {
   "cell_type": "markdown",
   "metadata": {},
   "source": [
    "`kubectl port-forward svc/kube-state-metrics 8080:8080 -n metrics`"
   ]
  },
  {
   "cell_type": "markdown",
   "metadata": {},
   "source": [
    "### using `helm show` commands"
   ]
  },
  {
   "cell_type": "markdown",
   "metadata": {},
   "source": [
    "`helm show help`"
   ]
  },
  {
   "cell_type": "markdown",
   "metadata": {},
   "source": [
    "`helm show chart <repository>/<helm-chart-name>` # Similar to what is displayed in the Helm hub."
   ]
  },
  {
   "cell_type": "markdown",
   "metadata": {},
   "source": [
    "`helm show values <repository>/<helm-chart-name> > values.yaml` # Output values redirected to a file. It contains all of the values that Kubernetes turns into objects. "
   ]
  },
  {
   "cell_type": "markdown",
   "metadata": {},
   "source": [
    "`helm delete <install-name> -n <namespace-name>`"
   ]
  },
  {
   "cell_type": "markdown",
   "metadata": {},
   "source": [
    "`kubectl delete ns <namespace-name>`"
   ]
  },
  {
   "cell_type": "markdown",
   "metadata": {},
   "source": [
    "### deploy an application with Helm"
   ]
  },
  {
   "cell_type": "markdown",
   "metadata": {},
   "source": [
    "`helm create first-chart` creates `Chart.yaml`, `charts/`, `templates/`, and `values.yaml`. These items contain everything needed to deploy an application using a Kubernetes cluster. `Chart.yaml` contains high-level information about the chart that can be passed into the helm templating engine (ex. versioning), while the `values.yaml` contains key-value pairs that allow us to configure the containers running in a pod (ex. image repo). The `charts/` directory stores sub-charts that are dependencies of the top-level charts. The `templates/` contains the `NOTES.txt` file, which is the text displayed in the terminal when someone downloads and installs this package. It contains helm templating code. All of the files in the `templates/` directory are sent through the templating engine, where the values from `Chart.yaml` and `values.yaml` are passed in. The `_helpers.tpl` file contains code that generates variables in files within the `templates/` directory. "
   ]
  },
  {
   "cell_type": "markdown",
   "metadata": {},
   "source": [
    "#### Configmaps\n",
    "\n",
    "A configmap is a kubernetes object that stores non-sensitive data used by pods like port numbers and environment variables. "
   ]
  },
  {
   "cell_type": "code",
   "execution_count": null,
   "metadata": {},
   "outputs": [],
   "source": [
    "%%file configmap.yaml\n",
    "\n",
    "apiVersion: v1\n",
    "kind: ConfigMap\n",
    "metadata:\n",
    "  name: first-chart-configmap\n",
    "data:\n",
    "  port: \"8080\"\n",
    "  allowTesting: \"true\""
   ]
  },
  {
   "cell_type": "markdown",
   "metadata": {},
   "source": [
    "`helm install first-chart .`"
   ]
  },
  {
   "cell_type": "markdown",
   "metadata": {},
   "source": [
    "`kubectl get cm`"
   ]
  },
  {
   "cell_type": "markdown",
   "metadata": {},
   "source": [
    "`kubectl describe cm first-chart-configmap`"
   ]
  },
  {
   "cell_type": "markdown",
   "metadata": {},
   "source": [
    "`helm template first-chart .` # Look over the template before running it."
   ]
  },
  {
   "cell_type": "markdown",
   "metadata": {},
   "source": [
    "`helm upgrade first-chart .` # Apply it to the cluster."
   ]
  },
  {
   "cell_type": "markdown",
   "metadata": {},
   "source": [
    "#### Secrets\n",
    "\n",
    "Kubernetes secrets store sensitive information like passwords and SSH keys. "
   ]
  },
  {
   "cell_type": "code",
   "execution_count": null,
   "metadata": {},
   "outputs": [],
   "source": [
    "%%file secret.yaml\n",
    "\n",
    "apiVersion: v1\n",
    "kind: Secret\n",
    "metadata:\n",
    "  name: first-secret\n",
    "type: Opaque\n",
    "data:\n",
    "  username:\n",
    "  password:\n",
    " \n",
    "---\n",
    "# To convert to base64\n",
    "username: 'admin'\n",
    "password: '4w572$9sns1&!'"
   ]
  },
  {
   "cell_type": "markdown",
   "metadata": {},
   "source": [
    "`echo -n 'admin' | base64`"
   ]
  },
  {
   "cell_type": "markdown",
   "metadata": {},
   "source": [
    "`echo -n '4w572$9sns1&!' | base64`"
   ]
  },
  {
   "cell_type": "code",
   "execution_count": null,
   "metadata": {},
   "outputs": [],
   "source": [
    "%%file secret.yaml\n",
    "\n",
    "apiVersion: v1\n",
    "kind: Secret\n",
    "metadata:\n",
    "  name: first-secret\n",
    "type: Opaque\n",
    "data:\n",
    "  username: YWRtaW4=\n",
    "  password: NHc1NzIkOXNuczEmIQ=="
   ]
  },
  {
   "cell_type": "markdown",
   "metadata": {},
   "source": [
    "`helm template first-chart .`"
   ]
  },
  {
   "cell_type": "markdown",
   "metadata": {},
   "source": [
    "`helm upgrade first-chart .`"
   ]
  },
  {
   "cell_type": "markdown",
   "metadata": {},
   "source": [
    "`kubectl get secrets`"
   ]
  },
  {
   "cell_type": "markdown",
   "metadata": {},
   "source": [
    "`kubectl describe secret first-secret`"
   ]
  },
  {
   "cell_type": "markdown",
   "metadata": {},
   "source": [
    "#### Rollbacks"
   ]
  },
  {
   "cell_type": "markdown",
   "metadata": {},
   "source": [
    "`helm history first-chart`"
   ]
  },
  {
   "cell_type": "markdown",
   "metadata": {},
   "source": [
    "`helm rollback first-chart`"
   ]
  },
  {
   "cell_type": "markdown",
   "metadata": {},
   "source": [
    "`helm rollback first-chart <revision-number>`"
   ]
  },
  {
   "cell_type": "markdown",
   "metadata": {},
   "source": [
    "### Render a configmap value dynamically with Helm templating"
   ]
  },
  {
   "cell_type": "markdown",
   "metadata": {},
   "source": [
    "Helm can dynamically render values."
   ]
  },
  {
   "cell_type": "code",
   "execution_count": null,
   "metadata": {},
   "outputs": [],
   "source": [
    "%%file configmap.yaml\n",
    "\n",
    "apiVersion: v1\n",
    "kind: ConfigMap\n",
    "metadata:\n",
    "  name: first-chart-configmap-{{.Chart.Version}}\n",
    "data:\n",
    "  port: \"8080\"\n",
    "  allowTesting: \"true\""
   ]
  },
  {
   "cell_type": "code",
   "execution_count": null,
   "metadata": {},
   "outputs": [],
   "source": [
    "%%file Chart.yaml\n",
    "\n",
    "apiVersion: v2\n",
    "name: first-chart\n",
    "description: A Helm chart for Kubernetes\n",
    "\n",
    "# A chart can be either an 'application' or a 'library' chart.\n",
    "#\n",
    "# Application charts are a collection of templates that can be packaged into versioned archives\n",
    "# to be deployed.\n",
    "#\n",
    "# Library charts provide useful utilities or functions for the chart developer. They're included as\n",
    "# a dependency of application charts to inject those utilities and functions into the rendering\n",
    "# pipeline. Library charts do not define any templates and therefore cannot be deployed.\n",
    "type: application\n",
    "\n",
    "# This is the chart version. This version number should be incremented each time you make changes\n",
    "# to the chart and its templates, including the app version.\n",
    "# Versions are expected to follow Semantic Versioning (https://semver.org/)\n",
    "version: 0.1.1\n",
    "\n",
    "# This is the version number of the application being deployed. This version number should be\n",
    "# incremented each time you make changes to the application. Versions are not expected to\n",
    "# follow Semantic Versioning. They should reflect the version the application is using.\n",
    "appVersion: 1.16.0"
   ]
  },
  {
   "cell_type": "code",
   "execution_count": null,
   "metadata": {},
   "outputs": [],
   "source": [
    "%%file configmap.yaml\n",
    "\n",
    "apiVersion: v1\n",
    "kind: ConfigMap\n",
    "metadata:\n",
    "  name: first-chart-configmap-{{.Chart.Version}}\n",
    "data:\n",
    "  port: \"8080\"\n",
    "  allowTesting: \"true\""
   ]
  },
  {
   "cell_type": "markdown",
   "metadata": {},
   "source": [
    "`helm upgrade first-chart .`"
   ]
  },
  {
   "cell_type": "markdown",
   "metadata": {},
   "source": [
    "### Using values.yaml"
   ]
  },
  {
   "cell_type": "code",
   "execution_count": null,
   "metadata": {},
   "outputs": [],
   "source": [
    "%%file staging-values.yaml\n",
    "\n",
    "staging:\n",
    "  sample-key: sample-12345"
   ]
  },
  {
   "cell_type": "code",
   "execution_count": null,
   "metadata": {},
   "outputs": [],
   "source": [
    "%%file values.yaml\n",
    "\n",
    "# Default values for first-chart.\n",
    "# This is a YAML-formatted file.\n",
    "# Declare variables to be passed into your templates.\n",
    "\n",
    "replicaCount: 1\n",
    "\n",
    "image:\n",
    "  repository: nginx\n",
    "  pullPolicy: IfNotPresent\n",
    "  # Overrides the image tag whose default is the chart appVersion.\n",
    "  tag: \"\"\n",
    "\n",
    "imagePullSecrets: []\n",
    "nameOverride: \"\"\n",
    "fullnameOverride: \"\"\n",
    "\n",
    "serviceAccount:\n",
    "  # Specifies whether a service account should be created\n",
    "  create: true\n",
    "  # Annotations to add to the service account\n",
    "  annotations: {}\n",
    "  # The name of the service account to use.\n",
    "  # If not set and create is true, a name is generated using the fullname template\n",
    "  name: \"\"\n",
    "\n",
    "podAnnotations: {}\n",
    "\n",
    "podSecurityContext: {}\n",
    "  # fsGroup: 2000\n",
    "\n",
    "securityContext: {}\n",
    "  # capabilities:\n",
    "  #   drop:\n",
    "  #   - ALL\n",
    "  # readOnlyRootFilesystem: true\n",
    "  # runAsNonRoot: true\n",
    "  # runAsUser: 1000\n",
    "\n",
    "service:\n",
    "  type: ClusterIP\n",
    "  port: 80\n",
    "\n",
    "ingress:\n",
    "  enabled: false\n",
    "  annotations: {}\n",
    "    # kubernetes.io/ingress.class: nginx\n",
    "    # kubernetes.io/tls-acme: \"true\"\n",
    "  hosts:\n",
    "    - host: chart-example.local\n",
    "      paths: []\n",
    "  tls: []\n",
    "  #  - secretName: chart-example-tls\n",
    "  #    hosts:\n",
    "  #      - chart-example.local\n",
    "\n",
    "resources: {}\n",
    "  # We usually recommend not to specify default resources and to leave this as a conscious\n",
    "  # choice for the user. This also increases chances charts run on environments with little\n",
    "  # resources, such as Minikube. If you do want to specify resources, uncomment the following\n",
    "  # lines, adjust them as necessary, and remove the curly braces after 'resources:'.\n",
    "  # limits:\n",
    "  #   cpu: 100m\n",
    "  #   memory: 128Mi\n",
    "  # requests:\n",
    "  #   cpu: 100m\n",
    "  #   memory: 128Mi\n",
    "\n",
    "autoscaling:\n",
    "  enabled: false\n",
    "  minReplicas: 1\n",
    "  maxReplicas: 100\n",
    "  targetCPUUtilizationPercentage: 80\n",
    "  # targetMemoryUtilizationPercentage: 80\n",
    "\n",
    "nodeSelector: {}\n",
    "\n",
    "tolerations: []\n",
    "\n",
    "affinity: {}"
   ]
  },
  {
   "cell_type": "code",
   "execution_count": null,
   "metadata": {},
   "outputs": [],
   "source": [
    "%%file values.yaml\n",
    "\n",
    "# Default values for first-chart.\n",
    "# This is a YAML-formatted file.\n",
    "# Declare variables to be passed into your templates.\n",
    "\n",
    "staging:\n",
    "  sample-key: sample-12345 # Use {{ .Values.staging.sample-key }} to access. \n",
    "\n",
    "replicaCount: 1\n",
    "\n",
    "image:\n",
    "  repository: nginx\n",
    "  pullPolicy: IfNotPresent\n",
    "  # Overrides the image tag whose default is the chart appVersion.\n",
    "  tag: \"\"\n",
    "\n",
    "imagePullSecrets: []\n",
    "nameOverride: \"\"\n",
    "fullnameOverride: \"\"\n",
    "\n",
    "serviceAccount:\n",
    "  # Specifies whether a service account should be created\n",
    "  create: true\n",
    "  # Annotations to add to the service account\n",
    "  annotations: {}\n",
    "  # The name of the service account to use.\n",
    "  # If not set and create is true, a name is generated using the fullname template\n",
    "  name: \"\"\n",
    "\n",
    "podAnnotations: {}\n",
    "\n",
    "podSecurityContext: {}\n",
    "  # fsGroup: 2000\n",
    "\n",
    "securityContext: {}\n",
    "  # capabilities:\n",
    "  #   drop:\n",
    "  #   - ALL\n",
    "  # readOnlyRootFilesystem: true\n",
    "  # runAsNonRoot: true\n",
    "  # runAsUser: 1000\n",
    "\n",
    "service:\n",
    "  type: ClusterIP\n",
    "  port: 80\n",
    "\n",
    "ingress:\n",
    "  enabled: false\n",
    "  annotations: {}\n",
    "    # kubernetes.io/ingress.class: nginx\n",
    "    # kubernetes.io/tls-acme: \"true\"\n",
    "  hosts:\n",
    "    - host: chart-example.local\n",
    "      paths: []\n",
    "  tls: []\n",
    "  #  - secretName: chart-example-tls\n",
    "  #    hosts:\n",
    "  #      - chart-example.local\n",
    "\n",
    "resources: {}\n",
    "  # We usually recommend not to specify default resources and to leave this as a conscious\n",
    "  # choice for the user. This also increases chances charts run on environments with little\n",
    "  # resources, such as Minikube. If you do want to specify resources, uncomment the following\n",
    "  # lines, adjust them as necessary, and remove the curly braces after 'resources:'.\n",
    "  # limits:\n",
    "  #   cpu: 100m\n",
    "  #   memory: 128Mi\n",
    "  # requests:\n",
    "  #   cpu: 100m\n",
    "  #   memory: 128Mi\n",
    "\n",
    "autoscaling:\n",
    "  enabled: false\n",
    "  minReplicas: 1\n",
    "  maxReplicas: 100\n",
    "  targetCPUUtilizationPercentage: 80\n",
    "  # targetMemoryUtilizationPercentage: 80\n",
    "\n",
    "nodeSelector: {}\n",
    "\n",
    "tolerations: []\n",
    "\n",
    "affinity: {}"
   ]
  },
  {
   "cell_type": "markdown",
   "metadata": {},
   "source": [
    "### Helm conditionals"
   ]
  },
  {
   "cell_type": "code",
   "execution_count": null,
   "metadata": {},
   "outputs": [],
   "source": [
    "%%file configmap.yaml\n",
    "\n",
    "apiVersion: v1\n",
    "kind: ConfigMap\n",
    "metadata:\n",
    "  name: first-chart-configmap-{{.Chart.Version}}\n",
    "data:\n",
    "  port: \"8080\"\n",
    "  {{ if eq .Values.env \"staging\"}}\n",
    "  allowTesting: \"true\"\n",
    "  {{else}}\n",
    "  allowTesting: \"false\"\n",
    "  {{end}}"
   ]
  }
 ],
 "metadata": {
  "kernelspec": {
   "display_name": "Python 3",
   "language": "python",
   "name": "python3"
  },
  "language_info": {
   "codemirror_mode": {
    "name": "ipython",
    "version": 3
   },
   "file_extension": ".py",
   "mimetype": "text/x-python",
   "name": "python",
   "nbconvert_exporter": "python",
   "pygments_lexer": "ipython3",
   "version": "3.7.3"
  }
 },
 "nbformat": 4,
 "nbformat_minor": 2
}
